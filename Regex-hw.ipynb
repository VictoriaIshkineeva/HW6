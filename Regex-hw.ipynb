{
 "cells": [
  {
   "cell_type": "markdown",
   "metadata": {},
   "source": [
    "# Домашнее задание к лекции \"Регулярные выражения\"\n",
    "Для зачета необходимо выполнить 4 задания.  \n",
    "Для зачета с отличием – все."
   ]
  },
  {
   "cell_type": "markdown",
   "metadata": {},
   "source": [
    "## Задание 1"
   ]
  },
  {
   "cell_type": "markdown",
   "metadata": {},
   "source": [
    "Напишите функцию, которая принимает на вход строку и проверяет является ли она валидным транспортным номером. Если да, то функция должна возвращать отдельно номер и регион."
   ]
  },
  {
   "cell_type": "code",
   "execution_count": 4,
   "metadata": {},
   "outputs": [],
   "source": [
    "import re"
   ]
  },
  {
   "cell_type": "code",
   "execution_count": 7,
   "metadata": {},
   "outputs": [
    {
     "name": "stdout",
     "output_type": "stream",
     "text": [
      "Введите транспортный номер, включая регион: в 11 1 ва123\n",
      "Номерной знак в111ва, регион 123\n"
     ]
    }
   ],
   "source": [
    "def main():\n",
    "    item = input('Введите транспортный номер, включая регион: ').lower()\n",
    "    print(check_number_car(item))\n",
    "    \n",
    "def check_number_car(item):\n",
    "    pattern = r'([авекмнорстух]{1}[\\d]{3}(?<!000)[авекмнорстух]{2})([\\d]{2,3})'\n",
    "    result = re.match(pattern, ''.join(item.split()), flags = re.I)\n",
    "    if result:\n",
    "        return 'Номерной знак {0}, регион {1}'.format(result[1], result[2])\n",
    "    else:\n",
    "        return 'Номерной знак \"{0}\" не является валидным'.format(item)\n",
    "\n",
    "main()"
   ]
  },
  {
   "cell_type": "markdown",
   "metadata": {},
   "source": [
    "## Задание 2"
   ]
  },
  {
   "cell_type": "markdown",
   "metadata": {},
   "source": [
    "Напишите функцию, которая проверяет e-mail адрес на валидность по стандарту RFC822: http://www.w3.org/Protocols/rfc822/. Для этого постарайтесь написать (в крайнем случае найти) самый полный шаблон для проверки e-mail адресов через регулярное выражение. Разберитесь и напишите примеры, какие ваш шаблон может не охватить."
   ]
  },
  {
   "cell_type": "code",
   "execution_count": 15,
   "metadata": {},
   "outputs": [],
   "source": [
    "def mail_check(mail):\n",
    "    mail_check1 = re.compile(r'[\\w]+@[\\w]+\\.[\\w]+\\.?[a-zA-Zа-яёА-ЯЁ]*$')\n",
    "    if not mail_check1.match(mail):\n",
    "        return 'invalid adress'\n",
    "    return 'valid adress'"
   ]
  },
  {
   "cell_type": "code",
   "execution_count": 17,
   "metadata": {},
   "outputs": [
    {
     "data": {
      "text/plain": [
       "'valid adress'"
      ]
     },
     "execution_count": 17,
     "metadata": {},
     "output_type": "execute_result"
    }
   ],
   "source": [
    "mail_check('qaweawd@sdxzc.rt')"
   ]
  },
  {
   "cell_type": "markdown",
   "metadata": {},
   "source": [
    "## Задание 3\n",
    "Напишите функцию, которая будет удалять все последовательные повторы слов из заданной строки."
   ]
  },
  {
   "cell_type": "code",
   "execution_count": 22,
   "metadata": {},
   "outputs": [
    {
     "name": "stdout",
     "output_type": "stream",
     "text": [
      "Введите исходный текст: Напишите функцию, которая которая будет будет удалять удалять строки строки\n"
     ]
    },
    {
     "data": {
      "text/plain": [
       "'Результат: Напишите функцию, которая будет удалять строки'"
      ]
     },
     "execution_count": 22,
     "metadata": {},
     "output_type": "execute_result"
    }
   ],
   "source": [
    "import re\n",
    "\n",
    "def func():\n",
    "    item = input(\"Введите исходный текст: \").strip()\n",
    "    return (replace_duplicates(item))\n",
    "\n",
    "def replace_duplicates(item):\n",
    "    pattern = r\"(.+)\\1\"\n",
    "    replace_string = r\"\\1\"\n",
    "    while re.search(pattern, item):\n",
    "        item = re.sub(pattern, replace_string, item, flags = re.I)\n",
    "    return \"Результат: {0}\".format(item)\n",
    "\n",
    "func()"
   ]
  },
  {
   "cell_type": "markdown",
   "metadata": {},
   "source": [
    "## Задание 4\n",
    "Напишите функцию, которая будет проверять номер сотового телефона на валидность, если он валиден, то переводить его в формат:   \n",
    "+7(xxx)-xxx-xx-xx  \n",
    "Постарайтесь предусмотреть как можно больше адекватных форматов изначального ввода номера.\n",
    "Примеры правильных и неправильных форматов:\n",
    "- +7 955 555-55-55;\n",
    "- 955555555;\n",
    "- 8(955)555-55-55;\n",
    "- +7 955 555 55 55;\n",
    "- 7(955) 555-55-55;\n",
    "- +7 955+555+55+55."
   ]
  },
  {
   "cell_type": "code",
   "execution_count": 34,
   "metadata": {},
   "outputs": [
    {
     "name": "stdout",
     "output_type": "stream",
     "text": [
      "Введите номер телефона: 79995554433\n",
      "набирать номер в порядке: +7(999)-555-44-33\n"
     ]
    }
   ],
   "source": [
    "import re\n",
    "\n",
    "number = ''\n",
    "phone = input('Введите номер телефона: ')\n",
    "regex = r'(\\+?7|8)\\(?\\s?([0-9]{3})\\)?\\+?\\s?([0-9]{3})\\+?-?\\s?([0-9]{2})\\+?-?\\s?([0-9]{2})'\n",
    "\n",
    "result = re.findall(regex, phone, re.I)\n",
    "\n",
    "if result:\n",
    "    number = re.sub(regex, r'+7(\\2)-\\3-\\4-\\5' , phone)\n",
    "    print('набирать номер в порядке:', number)\n",
    "else:\n",
    "    print('Неверный номер')"
   ]
  }
 ],
 "metadata": {
  "kernelspec": {
   "display_name": "Python 3",
   "language": "python",
   "name": "python3"
  },
  "language_info": {
   "codemirror_mode": {
    "name": "ipython",
    "version": 3
   },
   "file_extension": ".py",
   "mimetype": "text/x-python",
   "name": "python",
   "nbconvert_exporter": "python",
   "pygments_lexer": "ipython3",
   "version": "3.7.4"
  }
 },
 "nbformat": 4,
 "nbformat_minor": 2
}
